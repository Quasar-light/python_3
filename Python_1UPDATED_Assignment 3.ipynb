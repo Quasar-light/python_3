{
 "cells": [
  {
   "attachments": {},
   "cell_type": "markdown",
   "metadata": {},
   "source": [
    "# Coding Temple's Data Analytics Program\n",
    "---\n",
    "## Python 1 Assignment 3\n",
    "---"
   ]
  },
  {
   "attachments": {},
   "cell_type": "markdown",
   "metadata": {},
   "source": [
    "### **Task 1: Build a Shopping Cart**\n",
    "**You can use either lists or dictionaries. The program should have the following capabilites:**\n",
    "* Takes a string as an input\n",
    "* Stores user input in a dictionary or list\n",
    "* Users should be able to:\n",
    "    * Add Items\n",
    "    * Delete Items\n",
    "    * See current shopping cart\n",
    "* The program should loop until user 'quits'\n",
    "* Upon quitting the program, print out all items in the user's list"
   ]
  },
  {
   "cell_type": "code",
   "execution_count": 7,
   "metadata": {},
   "outputs": [
    {
     "name": "stdout",
     "output_type": "stream",
     "text": [
      "['mango', 'bread', 'pizza', 'cake']\n",
      "Added! Check your cart below! ['mango', 'bread', 'pizza', 'cake', 'cat']\n",
      "cat Deleted! ['mango', 'bread', 'pizza', 'cake']\n",
      "Have a great day\n"
     ]
    }
   ],
   "source": [
    "#dictionary\n",
    "cart_items = {\"items1\" : [\"mango\"]}\n",
    "\n",
    "#adding more than one value to a single key\n",
    "cart_items[\"items1\"] += [\"bread\", \"pizza\", \"cake\"]\n",
    "\n",
    "see_cart = input(\"Enter yes to see items in cart.\")\n",
    "\n",
    "#nested loop through dictionary\n",
    "if see_cart == \"yes\":\n",
    "    for value in cart_items.values():\n",
    "        print(value)\n",
    "\n",
    "#add a free item  \n",
    "add_item = input(\"You won a FREE item! What would you like?\")\n",
    "\n",
    "cart_items[\"items1\"] += [add_item]\n",
    "\n",
    "for cart_items in cart_items.values():\n",
    "    print(\"Added! Check your cart below!\", cart_items)\n",
    "\n",
    "#delete an item\n",
    "deleted_item = input(\"Woah! Cart full, Enter a number to delete an item?\")\n",
    "\n",
    "deleted_item = cart_items.pop()\n",
    "\n",
    "print(deleted_item, \"deleted!\" , cart_items)\n",
    "\n",
    "done = input(\"Enter quit to finish up!\")\n",
    "\n",
    "if done == \"quit\":\n",
    "    print(\"Have a great day\")\n"
   ]
  },
  {
   "attachments": {},
   "cell_type": "markdown",
   "metadata": {},
   "source": [
    "### **Task 2: Create a Module and Import it**\n",
    "Create a Module in VS Code and import it into a Notebook. Use each of the functions you build in your module\n",
    "\n",
    "**Your module should have the following capabilities:**\n",
    "* Has a function to calculate the square footage of a house\n",
    "* Has a function to calculate the circumference of a circle\n",
    "* Has a function to change feet to inches"
   ]
  },
  {
   "cell_type": "code",
   "execution_count": 1,
   "metadata": {},
   "outputs": [
    {
     "name": "stdout",
     "output_type": "stream",
     "text": [
      "79.8\n",
      "18.84\n",
      "2.0\n"
     ]
    }
   ],
   "source": [
    "import module1\n",
    "        \n",
    "lgth = [4.5, 6.7, 8.2]\n",
    "wdth = [3, 5, 4]\n",
    "\n",
    "sqr_ft = module1.house(lgth, wdth)\n",
    "print(sqr_ft)\n",
    "\n",
    "d = 6\n",
    "circ = module1.circle(d)\n",
    "print(circ)\n",
    "\n",
    "feet = module1.ft_in(24)\n",
    "print(feet)"
   ]
  },
  {
   "attachments": {},
   "cell_type": "markdown",
   "metadata": {},
   "source": [
    "### **Task 3.1: Lists**\n",
    "Create 4 lists. Two of these lists should be keys, two of these lists should be values"
   ]
  },
  {
   "cell_type": "code",
   "execution_count": 21,
   "metadata": {},
   "outputs": [],
   "source": [
    "key = [\"big\"]\n",
    "key_1 = [\"fat\"]\n",
    "val = [\"wig\"]\n",
    "val_1 = [\"cat\"]\n",
    "\n",
    "com_key = key + key_1\n",
    "com_val = val + val_1"
   ]
  },
  {
   "attachments": {},
   "cell_type": "markdown",
   "metadata": {},
   "source": [
    "### **Task 3.2: Create a function that converts two lists into a dictionary, then merges two dictionaries into one.**\n",
    "\n",
    "Using your 4 lists, create a function which combines the keys lists with the values lists into a dictionary, then merges and returns the two dictionaries together."
   ]
  },
  {
   "cell_type": "code",
   "execution_count": 22,
   "metadata": {},
   "outputs": [
    {
     "name": "stdout",
     "output_type": "stream",
     "text": [
      "['big', 'fat']\n",
      "['wig', 'cat']\n",
      "{'big': 'wig', 'fat': 'cat'}\n"
     ]
    }
   ],
   "source": [
    "def mer(com_key, com_val):\n",
    "    print(str(com_key))\n",
    "    print(str(com_val))\n",
    "\n",
    "    comb_lst = {com_key[i]: com_val[i] for i in range(len(com_key))}\n",
    "    print(str(comb_lst))\n",
    "\n",
    "mer(com_key, com_val)"
   ]
  }
 ],
 "metadata": {
  "kernelspec": {
   "display_name": "Python 3",
   "language": "python",
   "name": "python3"
  },
  "language_info": {
   "codemirror_mode": {
    "name": "ipython",
    "version": 3
   },
   "file_extension": ".py",
   "mimetype": "text/x-python",
   "name": "python",
   "nbconvert_exporter": "python",
   "pygments_lexer": "ipython3",
   "version": "3.11.4"
  },
  "orig_nbformat": 4,
  "vscode": {
   "interpreter": {
    "hash": "26de051ba29f2982a8de78e945f0abaf191376122a1563185a90213a26c5da77"
   }
  }
 },
 "nbformat": 4,
 "nbformat_minor": 2
}
