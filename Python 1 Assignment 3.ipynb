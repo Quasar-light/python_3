{
 "cells": [
  {
   "attachments": {},
   "cell_type": "markdown",
   "metadata": {},
   "source": [
    "# Coding Temple's Data Analytics Program\n",
    "---\n",
    "## Python 1 Assignment 3\n",
    "---"
   ]
  },
  {
   "attachments": {},
   "cell_type": "markdown",
   "metadata": {},
   "source": [
    "### **Task 1: Build a Shopping Cart**\n",
    "**You can use either lists or dictionaries. The program should have the following capabilites:**\n",
    "* Takes a string as an input\n",
    "* Stores user input in a dictionary or list\n",
    "* Users should be able to:\n",
    "    * Add Items\n",
    "    * Delete Items\n",
    "    * See current shopping cart\n",
    "* The program should loop until user 'quits'\n",
    "* Upon quitting the program, print out all items in the user's list"
   ]
  },
  {
   "cell_type": "code",
   "execution_count": 4,
   "metadata": {},
   "outputs": [
    {
     "name": "stdout",
     "output_type": "stream",
     "text": [
      "['mango', 'bread', 'pizza', 'cake']\n",
      "Added! Check your cart below! ['mango', 'bread', 'pizza', 'cake', 'cat']\n",
      "Deleted! See below. Hit quit to exit ['mango', 'bread', 'pizza', 'cake']\n"
     ]
    }
   ],
   "source": [
    "#dictionary\n",
    "cart_items = {\"items1\" : [\"mango\"]}\n",
    "\n",
    "#adding more than one value to a single key\n",
    "cart_items[\"items1\"] += [\"bread\", \"pizza\", \"cake\"]\n",
    "\n",
    "see_cart = input(\"Enter yes to see items in cart.\")\n",
    "\n",
    "#nested loop through dictionary\n",
    "if see_cart == \"yes\":\n",
    "    for value in cart_items.values():\n",
    "        print(value)\n",
    "\n",
    "#add a free item  \n",
    "add_item = input(\"You won a FREE item! What would you like?\")\n",
    "\n",
    "cart_items[\"items1\"] += [add_item]\n",
    "\n",
    "for cart_items in cart_items.values():\n",
    "    print(\"Added! Check your cart below!\", cart_items)\n",
    "\n",
    "#delete an item\n",
    "deleted_item = input(\"Woah! Cart full, Enter a number to delete an item?\")\n",
    "\n",
    "deleted_item = cart_items.pop()\n",
    "\n",
    "print(deleted_item, \"Deleted!\" , cart_items)\n"
   ]
  },
  {
   "attachments": {},
   "cell_type": "markdown",
   "metadata": {},
   "source": [
    "### **Task 2: Create a Module and Import it**\n",
    "Create a Module in VS Code and import it into a Notebook. Use each of the functions you build in your module\n",
    "\n",
    "**Your module should have the following capabilities:**\n",
    "* Has a function to calculate the square footage of a house\n",
    "* Has a function to calculate the circumference of a circle\n",
    "* Has a function to change feet to inches"
   ]
  },
  {
   "cell_type": "code",
   "execution_count": 37,
   "metadata": {},
   "outputs": [
    {
     "name": "stdout",
     "output_type": "stream",
     "text": [
      "['mango', 'bread', 'pizza', 'cake']\n",
      "Added! Check your cart below! ['mango', 'bread', 'pizza', 'cake', 'cat']\n"
     ]
    },
    {
     "ename": "KeyError",
     "evalue": "'bread'",
     "output_type": "error",
     "traceback": [
      "\u001b[0;31m---------------------------------------------------------------------------\u001b[0m",
      "\u001b[0;31mKeyError\u001b[0m                                  Traceback (most recent call last)",
      "Cell \u001b[0;32mIn[37], line 25\u001b[0m\n\u001b[1;32m     22\u001b[0m \u001b[39m#delete an item\u001b[39;00m\n\u001b[1;32m     23\u001b[0m delete_item \u001b[39m=\u001b[39m \u001b[39minput\u001b[39m(\u001b[39m\"\u001b[39m\u001b[39mWoah! Cart full, which item would you like to delete?\u001b[39m\u001b[39m\"\u001b[39m)\n\u001b[0;32m---> 25\u001b[0m \u001b[39mdel\u001b[39;00m cart_items[delete_item]\n\u001b[1;32m     26\u001b[0m \u001b[39mfor\u001b[39;00m value_3 \u001b[39min\u001b[39;00m cart_items\u001b[39m.\u001b[39mvalues():\n\u001b[1;32m     27\u001b[0m    \u001b[39mprint\u001b[39m(\u001b[39m\"\u001b[39m\u001b[39mDeleted! See below. Hit quit to exit\u001b[39m\u001b[39m\"\u001b[39m, value_3)\n",
      "\u001b[0;31mKeyError\u001b[0m: 'bread'"
     ]
    }
   ],
   "source": [
    " \n",
    " #dictionary\n",
    "cart_items = {\"items1\" : [\"mango\"]}\n",
    "\n",
    "#adding more than one value to a single key\n",
    "cart_items[\"items1\"] += [\"bread\", \"pizza\", \"cake\"]\n",
    "\n",
    "see_cart = input(\"Enter yes to see items in cart.\")\n",
    "\n",
    "#nested loop through dictionary\n",
    "if see_cart == \"yes\":\n",
    "    for value in cart_items.values():\n",
    "        print(value)\n",
    "\n",
    "#add a free item  \n",
    "add_item = input(\"You won a FREE item! What would you like?\")\n",
    "\n",
    "cart_items[\"items1\"] += [add_item]\n",
    "\n",
    "for value_2 in cart_items.values():\n",
    "    print(\"Added! Check your cart below!\", value_2)\n",
    "\n",
    "#delete an item\n",
    "delete_item = input(\"Woah! Cart full, which item would you like to delete?\")\n",
    "\n",
    "del cart_items[delete_item]\n",
    "for value_3 in cart_items.values():\n",
    "    print(\"Deleted! See below. Hit quit to exit\", value_3)\n",
    "\n"
   ]
  },
  {
   "attachments": {},
   "cell_type": "markdown",
   "metadata": {},
   "source": [
    "### **Task 3.1: Lists**\n",
    "Create 4 lists. Two of these lists should be keys, two of these lists should be values"
   ]
  },
  {
   "cell_type": "code",
   "execution_count": null,
   "metadata": {},
   "outputs": [],
   "source": []
  },
  {
   "attachments": {},
   "cell_type": "markdown",
   "metadata": {},
   "source": [
    "### **Task 3.2: Create a function that converts two lists into a dictionary, then merges two dictionaries into one.**\n",
    "\n",
    "Using your 4 lists, create a function which combines the keys lists with the values lists into a dictionary, then merges and returns the two dictionaries together."
   ]
  },
  {
   "cell_type": "code",
   "execution_count": null,
   "metadata": {},
   "outputs": [],
   "source": []
  }
 ],
 "metadata": {
  "kernelspec": {
   "display_name": "Python 3",
   "language": "python",
   "name": "python3"
  },
  "language_info": {
   "codemirror_mode": {
    "name": "ipython",
    "version": 3
   },
   "file_extension": ".py",
   "mimetype": "text/x-python",
   "name": "python",
   "nbconvert_exporter": "python",
   "pygments_lexer": "ipython3",
   "version": "3.11.4"
  },
  "orig_nbformat": 4,
  "vscode": {
   "interpreter": {
    "hash": "26de051ba29f2982a8de78e945f0abaf191376122a1563185a90213a26c5da77"
   }
  }
 },
 "nbformat": 4,
 "nbformat_minor": 2
}
